{
 "cells": [
  {
   "cell_type": "code",
   "execution_count": 2,
   "metadata": {},
   "outputs": [],
   "source": [
    "from scipy.spatial import ConvexHull\n",
    "\n",
    "import pandas as pd\n",
    "import numpy as np\n",
    "\n",
    "import matplotlib.pyplot as plt\n",
    "from matplotlib.patches import Arc"
   ]
  },
  {
   "cell_type": "code",
   "execution_count": 3,
   "metadata": {},
   "outputs": [
    {
     "data": {
      "text/html": [
       "<div>\n",
       "<style scoped>\n",
       "    .dataframe tbody tr th:only-of-type {\n",
       "        vertical-align: middle;\n",
       "    }\n",
       "\n",
       "    .dataframe tbody tr th {\n",
       "        vertical-align: top;\n",
       "    }\n",
       "\n",
       "    .dataframe thead th {\n",
       "        text-align: right;\n",
       "    }\n",
       "</style>\n",
       "<table border=\"1\" class=\"dataframe\">\n",
       "  <thead>\n",
       "    <tr style=\"text-align: right;\">\n",
       "      <th></th>\n",
       "      <th>Mode</th>\n",
       "      <th>Year</th>\n",
       "      <th>Scenario</th>\n",
       "      <th>Scenario branch</th>\n",
       "      <th>Technology</th>\n",
       "      <th>VC</th>\n",
       "    </tr>\n",
       "  </thead>\n",
       "  <tbody>\n",
       "    <tr>\n",
       "      <th>0</th>\n",
       "      <td>Gas Dem</td>\n",
       "      <td>2020</td>\n",
       "      <td>EUCO</td>\n",
       "      <td>EUCO</td>\n",
       "      <td>Lignite</td>\n",
       "      <td>23.8</td>\n",
       "    </tr>\n",
       "    <tr>\n",
       "      <th>1</th>\n",
       "      <td>Gas Dem</td>\n",
       "      <td>2020</td>\n",
       "      <td>EUCO</td>\n",
       "      <td>EUCO</td>\n",
       "      <td>Hard Coal</td>\n",
       "      <td>38.6</td>\n",
       "    </tr>\n",
       "    <tr>\n",
       "      <th>2</th>\n",
       "      <td>Gas Dem</td>\n",
       "      <td>2020</td>\n",
       "      <td>EUCO</td>\n",
       "      <td>EUCO</td>\n",
       "      <td>CCGT</td>\n",
       "      <td>30.5</td>\n",
       "    </tr>\n",
       "    <tr>\n",
       "      <th>3</th>\n",
       "      <td>Gas Dem</td>\n",
       "      <td>2020</td>\n",
       "      <td>EUCO</td>\n",
       "      <td>EUCO</td>\n",
       "      <td>OCGT</td>\n",
       "      <td>47.1</td>\n",
       "    </tr>\n",
       "    <tr>\n",
       "      <th>4</th>\n",
       "      <td>Gas Dem</td>\n",
       "      <td>2020</td>\n",
       "      <td>EUCO</td>\n",
       "      <td>ST</td>\n",
       "      <td>Lignite</td>\n",
       "      <td>23.8</td>\n",
       "    </tr>\n",
       "  </tbody>\n",
       "</table>\n",
       "</div>"
      ],
      "text/plain": [
       "      Mode  Year Scenario Scenario branch Technology    VC\n",
       "0  Gas Dem  2020     EUCO            EUCO    Lignite  23.8\n",
       "1  Gas Dem  2020     EUCO            EUCO  Hard Coal  38.6\n",
       "2  Gas Dem  2020     EUCO            EUCO       CCGT  30.5\n",
       "3  Gas Dem  2020     EUCO            EUCO       OCGT  47.1\n",
       "4  Gas Dem  2020     EUCO              ST    Lignite  23.8"
      ]
     },
     "execution_count": 3,
     "metadata": {},
     "output_type": "execute_result"
    }
   ],
   "source": [
    "defdata = pd.read_csv(\"Hull_input.csv\")\n",
    "defdata.head()"
   ]
  },
  {
   "cell_type": "code",
   "execution_count": 11,
   "metadata": {},
   "outputs": [
    {
     "data": {
      "text/html": [
       "<div>\n",
       "<style scoped>\n",
       "    .dataframe tbody tr th:only-of-type {\n",
       "        vertical-align: middle;\n",
       "    }\n",
       "\n",
       "    .dataframe tbody tr th {\n",
       "        vertical-align: top;\n",
       "    }\n",
       "\n",
       "    .dataframe thead th {\n",
       "        text-align: right;\n",
       "    }\n",
       "</style>\n",
       "<table border=\"1\" class=\"dataframe\">\n",
       "  <thead>\n",
       "    <tr style=\"text-align: right;\">\n",
       "      <th></th>\n",
       "      <th>Mode</th>\n",
       "      <th>Year</th>\n",
       "      <th>Scenario</th>\n",
       "      <th>Scenario branch</th>\n",
       "      <th>Technology</th>\n",
       "      <th>VC</th>\n",
       "    </tr>\n",
       "  </thead>\n",
       "  <tbody>\n",
       "    <tr>\n",
       "      <th>0</th>\n",
       "      <td>Gas Dem</td>\n",
       "      <td>2020</td>\n",
       "      <td>EUCO</td>\n",
       "      <td>EUCO</td>\n",
       "      <td>Lignite</td>\n",
       "      <td>23.8</td>\n",
       "    </tr>\n",
       "    <tr>\n",
       "      <th>1</th>\n",
       "      <td>Gas Dem</td>\n",
       "      <td>2020</td>\n",
       "      <td>EUCO</td>\n",
       "      <td>EUCO</td>\n",
       "      <td>Hard Coal</td>\n",
       "      <td>38.6</td>\n",
       "    </tr>\n",
       "    <tr>\n",
       "      <th>2</th>\n",
       "      <td>Gas Dem</td>\n",
       "      <td>2020</td>\n",
       "      <td>EUCO</td>\n",
       "      <td>EUCO</td>\n",
       "      <td>CCGT</td>\n",
       "      <td>30.5</td>\n",
       "    </tr>\n",
       "    <tr>\n",
       "      <th>3</th>\n",
       "      <td>Gas Dem</td>\n",
       "      <td>2020</td>\n",
       "      <td>EUCO</td>\n",
       "      <td>EUCO</td>\n",
       "      <td>OCGT</td>\n",
       "      <td>47.1</td>\n",
       "    </tr>\n",
       "    <tr>\n",
       "      <th>4</th>\n",
       "      <td>Gas Dem</td>\n",
       "      <td>2020</td>\n",
       "      <td>EUCO</td>\n",
       "      <td>ST</td>\n",
       "      <td>Lignite</td>\n",
       "      <td>23.8</td>\n",
       "    </tr>\n",
       "    <tr>\n",
       "      <th>...</th>\n",
       "      <td>...</td>\n",
       "      <td>...</td>\n",
       "      <td>...</td>\n",
       "      <td>...</td>\n",
       "      <td>...</td>\n",
       "      <td>...</td>\n",
       "    </tr>\n",
       "    <tr>\n",
       "      <th>139</th>\n",
       "      <td>Gas Dem</td>\n",
       "      <td>2030</td>\n",
       "      <td>EVP</td>\n",
       "      <td>ST</td>\n",
       "      <td>OCGT</td>\n",
       "      <td>70.3</td>\n",
       "    </tr>\n",
       "    <tr>\n",
       "      <th>140</th>\n",
       "      <td>Gas Dem</td>\n",
       "      <td>2030</td>\n",
       "      <td>EVP</td>\n",
       "      <td>DG</td>\n",
       "      <td>Lignite</td>\n",
       "      <td>55.4</td>\n",
       "    </tr>\n",
       "    <tr>\n",
       "      <th>141</th>\n",
       "      <td>Gas Dem</td>\n",
       "      <td>2030</td>\n",
       "      <td>EVP</td>\n",
       "      <td>DG</td>\n",
       "      <td>Hard Coal</td>\n",
       "      <td>65.6</td>\n",
       "    </tr>\n",
       "    <tr>\n",
       "      <th>142</th>\n",
       "      <td>Gas Dem</td>\n",
       "      <td>2030</td>\n",
       "      <td>EVP</td>\n",
       "      <td>DG</td>\n",
       "      <td>CCGT</td>\n",
       "      <td>43.4</td>\n",
       "    </tr>\n",
       "    <tr>\n",
       "      <th>143</th>\n",
       "      <td>Gas Dem</td>\n",
       "      <td>2030</td>\n",
       "      <td>EVP</td>\n",
       "      <td>DG</td>\n",
       "      <td>OCGT</td>\n",
       "      <td>67.4</td>\n",
       "    </tr>\n",
       "  </tbody>\n",
       "</table>\n",
       "<p>144 rows × 6 columns</p>\n",
       "</div>"
      ],
      "text/plain": [
       "        Mode  Year Scenario Scenario branch Technology    VC\n",
       "0    Gas Dem  2020     EUCO            EUCO    Lignite  23.8\n",
       "1    Gas Dem  2020     EUCO            EUCO  Hard Coal  38.6\n",
       "2    Gas Dem  2020     EUCO            EUCO       CCGT  30.5\n",
       "3    Gas Dem  2020     EUCO            EUCO       OCGT  47.1\n",
       "4    Gas Dem  2020     EUCO              ST    Lignite  23.8\n",
       "..       ...   ...      ...             ...        ...   ...\n",
       "139  Gas Dem  2030      EVP              ST       OCGT  70.3\n",
       "140  Gas Dem  2030      EVP              DG    Lignite  55.4\n",
       "141  Gas Dem  2030      EVP              DG  Hard Coal  65.6\n",
       "142  Gas Dem  2030      EVP              DG       CCGT  43.4\n",
       "143  Gas Dem  2030      EVP              DG       OCGT  67.4\n",
       "\n",
       "[144 rows x 6 columns]"
      ]
     },
     "execution_count": 11,
     "metadata": {},
     "output_type": "execute_result"
    }
   ],
   "source": [
    "#We just want GasDem mode now, so create a new dataframe it:\n",
    "GasDem = defdata.loc[(defdata['Mode'] == 'Gas Dem')]\n",
    "GasDem"
   ]
  },
  {
   "cell_type": "code",
   "execution_count": 14,
   "metadata": {},
   "outputs": [
    {
     "data": {
      "text/html": [
       "<div>\n",
       "<style scoped>\n",
       "    .dataframe tbody tr th:only-of-type {\n",
       "        vertical-align: middle;\n",
       "    }\n",
       "\n",
       "    .dataframe tbody tr th {\n",
       "        vertical-align: top;\n",
       "    }\n",
       "\n",
       "    .dataframe thead th {\n",
       "        text-align: right;\n",
       "    }\n",
       "</style>\n",
       "<table border=\"1\" class=\"dataframe\">\n",
       "  <thead>\n",
       "    <tr style=\"text-align: right;\">\n",
       "      <th></th>\n",
       "      <th>Mode</th>\n",
       "      <th>Year</th>\n",
       "      <th>Scenario</th>\n",
       "      <th>Scenario branch</th>\n",
       "      <th>Technology</th>\n",
       "      <th>VC</th>\n",
       "    </tr>\n",
       "  </thead>\n",
       "  <tbody>\n",
       "    <tr>\n",
       "      <th>0</th>\n",
       "      <td>Gas Dem</td>\n",
       "      <td>2020</td>\n",
       "      <td>EUCO</td>\n",
       "      <td>EUCO</td>\n",
       "      <td>Lignite</td>\n",
       "      <td>23.8</td>\n",
       "    </tr>\n",
       "    <tr>\n",
       "      <th>1</th>\n",
       "      <td>Gas Dem</td>\n",
       "      <td>2020</td>\n",
       "      <td>EUCO</td>\n",
       "      <td>EUCO</td>\n",
       "      <td>Hard Coal</td>\n",
       "      <td>38.6</td>\n",
       "    </tr>\n",
       "    <tr>\n",
       "      <th>2</th>\n",
       "      <td>Gas Dem</td>\n",
       "      <td>2020</td>\n",
       "      <td>EUCO</td>\n",
       "      <td>EUCO</td>\n",
       "      <td>CCGT</td>\n",
       "      <td>30.5</td>\n",
       "    </tr>\n",
       "    <tr>\n",
       "      <th>3</th>\n",
       "      <td>Gas Dem</td>\n",
       "      <td>2020</td>\n",
       "      <td>EUCO</td>\n",
       "      <td>EUCO</td>\n",
       "      <td>OCGT</td>\n",
       "      <td>47.1</td>\n",
       "    </tr>\n",
       "    <tr>\n",
       "      <th>4</th>\n",
       "      <td>Gas Dem</td>\n",
       "      <td>2020</td>\n",
       "      <td>EUCO</td>\n",
       "      <td>ST</td>\n",
       "      <td>Lignite</td>\n",
       "      <td>23.8</td>\n",
       "    </tr>\n",
       "  </tbody>\n",
       "</table>\n",
       "</div>"
      ],
      "text/plain": [
       "      Mode  Year Scenario Scenario branch Technology    VC\n",
       "0  Gas Dem  2020     EUCO            EUCO    Lignite  23.8\n",
       "1  Gas Dem  2020     EUCO            EUCO  Hard Coal  38.6\n",
       "2  Gas Dem  2020     EUCO            EUCO       CCGT  30.5\n",
       "3  Gas Dem  2020     EUCO            EUCO       OCGT  47.1\n",
       "4  Gas Dem  2020     EUCO              ST    Lignite  23.8"
      ]
     },
     "execution_count": 14,
     "metadata": {},
     "output_type": "execute_result"
    }
   ],
   "source": [
    "#We just want EUCO scenario, so we’ll create a new dataframe it:\n",
    "GasDem_EUCO = GasDem.loc[(GasDem['Scenario'] == 'EUCO')]\n",
    "GasDem_EUCO.head()"
   ]
  },
  {
   "cell_type": "code",
   "execution_count": 19,
   "metadata": {},
   "outputs": [
    {
     "data": {
      "text/plain": [
       "array([[2020. ,   23.8],\n",
       "       [2020. ,   38.6],\n",
       "       [2020. ,   30.5],\n",
       "       [2020. ,   47.1],\n",
       "       [2020. ,   23.8]])"
      ]
     },
     "execution_count": 19,
     "metadata": {},
     "output_type": "execute_result"
    }
   ],
   "source": [
    "defpoints = GasDem_EUCO[['Year', 'VC']].values\n",
    "defpoints[:5]"
   ]
  },
  {
   "cell_type": "code",
   "execution_count": 24,
   "metadata": {},
   "outputs": [
    {
     "data": {
      "text/plain": [
       "[<matplotlib.lines.Line2D at 0x2ad54019a48>]"
      ]
     },
     "execution_count": 24,
     "metadata": {},
     "output_type": "execute_result"
    },
    {
     "data": {
      "image/png": "[encoded data removed]",
      "text/plain": [
       "<Figure size 432x288 with 1 Axes>"
      ]
     },
     "metadata": {
      "needs_background": "light"
     },
     "output_type": "display_data"
    }
   ],
   "source": [
    "hull = ConvexHull(GasDem_EUCO[['Year','VC']])\n",
    "plt.plot(GasDem_EUCO.Year, GasDem_EUCO.VC, 'o')"
   ]
  },
  {
   "cell_type": "code",
   "execution_count": 45,
   "metadata": {},
   "outputs": [
    {
     "data": {
      "image/png": "[encoded data removed]",
      "text/plain": [
       "<Figure size 432x288 with 1 Axes>"
      ]
     },
     "metadata": {
      "needs_background": "light"
     },
     "output_type": "display_data"
    }
   ],
   "source": [
    "#Loop through each of the hull's simplices\n",
    "for simplex in hull.simplices:\n",
    "    #Draw a black line between each\n",
    "    plt.plot(defpoints[simplex, 0], defpoints[simplex, 1], 'k-')\n",
    "    plt.fill(defpoints[hull.vertices,0], defpoints[hull.vertices,1],  'o-', alpha=0.1)"
   ]
  },
  {
   "cell_type": "code",
   "execution_count": 47,
   "metadata": {},
   "outputs": [
    {
     "data": {
      "text/plain": [
       "array(['Lignite', 'Hard Coal', 'CCGT', 'OCGT'], dtype=object)"
      ]
     },
     "execution_count": 47,
     "metadata": {},
     "output_type": "execute_result"
    }
   ],
   "source": [
    "Techs = GasDem_EUCO[\"Technology\"].unique()\n",
    "Techs"
   ]
  },
  {
   "cell_type": "code",
   "execution_count": 58,
   "metadata": {},
   "outputs": [],
   "source": [
    "Colors = {'Lignite': 'o', 'Hard Coal': 'b', 'CCGT': 'y','OCGT': 'r'}"
   ]
  },
  {
   "cell_type": "code",
   "execution_count": 60,
   "metadata": {},
   "outputs": [
    {
     "data": {
      "image/png": "[encoded data removed]",
      "text/plain": [
       "<Figure size 432x288 with 1 Axes>"
      ]
     },
     "metadata": {
      "needs_background": "light"
     },
     "output_type": "display_data"
    }
   ],
   "source": [
    "#For each Technology\n",
    "for Tech in Techs:\n",
    "    \n",
    "    #Create a new dataframe for the player\n",
    "    df = GasDem_EUCO[(GasDem_EUCO.Technology == Tech)]\n",
    "    \n",
    "    #Create an array of the x/y coordinate groups\n",
    "    points = df[['Year', 'VC']].values\n",
    "\n",
    "    #If there are enough points for a hull, create it. If there's an error, forget about it\n",
    "    try:\n",
    "        hull = ConvexHull(df[['Year','VC']])\n",
    "        \n",
    "    except:\n",
    "        pass\n",
    "    \n",
    "    #If we created the hull, draw the lines and fill with 5% transparent red. If there's an error, forget about it\n",
    "    try:     \n",
    "        for simplex in hull.simplices:\n",
    "            plt.plot(points[simplex, 0], points[simplex, 1], 'k-')\n",
    "            plt.fill(points[hull.vertices,0], points[hull.vertices,1], Colors[Tech], alpha=0.05)\n",
    "                                   \n",
    "    except:\n",
    "        pass"
   ]
  }
 ],
 "metadata": {
  "kernelspec": {
   "display_name": "Python 3",
   "language": "python",
   "name": "python3"
  },
  "language_info": {
   "codemirror_mode": {
    "name": "ipython",
    "version": 3
   },
   "file_extension": ".py",
   "mimetype": "text/x-python",
   "name": "python",
   "nbconvert_exporter": "python",
   "pygments_lexer": "ipython3",
   "version": "3.7.6"
  }
 },
 "nbformat": 4,
 "nbformat_minor": 4
}
